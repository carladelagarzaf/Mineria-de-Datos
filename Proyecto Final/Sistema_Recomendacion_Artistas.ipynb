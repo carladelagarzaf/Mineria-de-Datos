{
 "cells": [
  {
   "cell_type": "markdown",
   "metadata": {},
   "source": [
    "# Sistema de Recomendación de Artistas"
   ]
  },
  {
   "cell_type": "markdown",
   "metadata": {},
   "source": [
    "![Music4U](Music4U_logo.png)"
   ]
  },
  {
   "cell_type": "markdown",
   "metadata": {},
   "source": [
    "**Importamos las librerías necesarias**"
   ]
  },
  {
   "cell_type": "code",
   "execution_count": 1,
   "metadata": {},
   "outputs": [],
   "source": [
    "#Librerias necesarias\n",
    "import pandas as pd\n",
    "import zipfile as zp\n",
    "import matplotlib.pyplot as plt\n",
    "%matplotlib inline\n",
    "import seaborn as sns\n",
    "from sklearn.preprocessing import MinMaxScaler\n",
    "from ipywidgets import widgets, Button, interact_manual\n",
    "import plotly.offline as py \n",
    "from plotly.figure_factory import create_table\n",
    "import plotly.express as px\n",
    "import plotly.graph_objects as go\n",
    "from sklearn.metrics.pairwise import cosine_similarity, euclidean_distances\n",
    "from IPython.display import display, clear_output"
   ]
  },
  {
   "cell_type": "markdown",
   "metadata": {},
   "source": [
    "**Importamos la tabla de canciones y la de artistas con géneros, ya que serán las dos tablas de la [base de datos de Spotify](https://www.kaggle.com/yamaerenay/spotify-dataset-19212020-160k-tracks) que usaremos para este sistema de recomendación**"
   ]
  },
  {
   "cell_type": "code",
   "execution_count": 2,
   "metadata": {},
   "outputs": [
    {
     "data": {
      "text/html": [
       "<div>\n",
       "<style scoped>\n",
       "    .dataframe tbody tr th:only-of-type {\n",
       "        vertical-align: middle;\n",
       "    }\n",
       "\n",
       "    .dataframe tbody tr th {\n",
       "        vertical-align: top;\n",
       "    }\n",
       "\n",
       "    .dataframe thead th {\n",
       "        text-align: right;\n",
       "    }\n",
       "</style>\n",
       "<table border=\"1\" class=\"dataframe\">\n",
       "  <thead>\n",
       "    <tr style=\"text-align: right;\">\n",
       "      <th></th>\n",
       "      <th>artists</th>\n",
       "      <th>acousticness</th>\n",
       "      <th>danceability</th>\n",
       "      <th>duration_ms</th>\n",
       "      <th>energy</th>\n",
       "      <th>instrumentalness</th>\n",
       "      <th>liveness</th>\n",
       "      <th>loudness</th>\n",
       "      <th>speechiness</th>\n",
       "      <th>tempo</th>\n",
       "      <th>valence</th>\n",
       "      <th>popularity</th>\n",
       "      <th>key</th>\n",
       "      <th>mode</th>\n",
       "      <th>count</th>\n",
       "      <th>genres</th>\n",
       "    </tr>\n",
       "  </thead>\n",
       "  <tbody>\n",
       "    <tr>\n",
       "      <th>0</th>\n",
       "      <td>\"Cats\" 1981 Original London Cast</td>\n",
       "      <td>0.575083</td>\n",
       "      <td>0.44275</td>\n",
       "      <td>247260.0</td>\n",
       "      <td>0.386336</td>\n",
       "      <td>0.022717</td>\n",
       "      <td>0.287708</td>\n",
       "      <td>-14.205417</td>\n",
       "      <td>0.180675</td>\n",
       "      <td>115.9835</td>\n",
       "      <td>0.334433</td>\n",
       "      <td>38.0</td>\n",
       "      <td>5</td>\n",
       "      <td>1</td>\n",
       "      <td>12</td>\n",
       "      <td>['show tunes']</td>\n",
       "    </tr>\n",
       "  </tbody>\n",
       "</table>\n",
       "</div>"
      ],
      "text/plain": [
       "                            artists  acousticness  danceability  duration_ms  \\\n",
       "0  \"Cats\" 1981 Original London Cast      0.575083       0.44275     247260.0   \n",
       "\n",
       "     energy  instrumentalness  liveness   loudness  speechiness     tempo  \\\n",
       "0  0.386336          0.022717  0.287708 -14.205417     0.180675  115.9835   \n",
       "\n",
       "    valence  popularity  key  mode  count          genres  \n",
       "0  0.334433        38.0    5     1     12  ['show tunes']  "
      ]
     },
     "execution_count": 2,
     "metadata": {},
     "output_type": "execute_result"
    }
   ],
   "source": [
    "#Importar las tablas de la base de datos\n",
    "archive = zp.ZipFile(\"archive.zip\", \"r\")\n",
    "original_df_genero = pd.read_csv(archive.open(\"data_w_genres.csv\"))\n",
    "original_df_genero.head(1)"
   ]
  },
  {
   "cell_type": "markdown",
   "metadata": {},
   "source": [
    "**Preparamos los datos en la tabla de artistas con géneros**"
   ]
  },
  {
   "cell_type": "code",
   "execution_count": 3,
   "metadata": {},
   "outputs": [
    {
     "data": {
      "text/html": [
       "<div>\n",
       "<style scoped>\n",
       "    .dataframe tbody tr th:only-of-type {\n",
       "        vertical-align: middle;\n",
       "    }\n",
       "\n",
       "    .dataframe tbody tr th {\n",
       "        vertical-align: top;\n",
       "    }\n",
       "\n",
       "    .dataframe thead th {\n",
       "        text-align: right;\n",
       "    }\n",
       "</style>\n",
       "<table border=\"1\" class=\"dataframe\">\n",
       "  <thead>\n",
       "    <tr style=\"text-align: right;\">\n",
       "      <th></th>\n",
       "      <th>artists</th>\n",
       "      <th>acousticness</th>\n",
       "      <th>danceability</th>\n",
       "      <th>duration_ms</th>\n",
       "      <th>energy</th>\n",
       "      <th>instrumentalness</th>\n",
       "      <th>liveness</th>\n",
       "      <th>loudness</th>\n",
       "      <th>speechiness</th>\n",
       "      <th>tempo</th>\n",
       "      <th>valence</th>\n",
       "      <th>Popularidad Artista</th>\n",
       "      <th>key</th>\n",
       "      <th>mode</th>\n",
       "      <th>count</th>\n",
       "      <th>genres</th>\n",
       "    </tr>\n",
       "  </thead>\n",
       "  <tbody>\n",
       "    <tr>\n",
       "      <th>0</th>\n",
       "      <td>\"Cats\" 1981 Original London Cast</td>\n",
       "      <td>0.575083</td>\n",
       "      <td>0.44275</td>\n",
       "      <td>247260.0</td>\n",
       "      <td>0.386336</td>\n",
       "      <td>0.022717</td>\n",
       "      <td>0.287708</td>\n",
       "      <td>-14.205417</td>\n",
       "      <td>0.180675</td>\n",
       "      <td>115.9835</td>\n",
       "      <td>0.334433</td>\n",
       "      <td>38</td>\n",
       "      <td>5</td>\n",
       "      <td>1</td>\n",
       "      <td>12</td>\n",
       "      <td>['show tunes']</td>\n",
       "    </tr>\n",
       "  </tbody>\n",
       "</table>\n",
       "</div>"
      ],
      "text/plain": [
       "                            artists  acousticness  danceability  duration_ms  \\\n",
       "0  \"Cats\" 1981 Original London Cast      0.575083       0.44275     247260.0   \n",
       "\n",
       "     energy  instrumentalness  liveness   loudness  speechiness     tempo  \\\n",
       "0  0.386336          0.022717  0.287708 -14.205417     0.180675  115.9835   \n",
       "\n",
       "    valence  Popularidad Artista  key  mode  count          genres  \n",
       "0  0.334433                   38    5     1     12  ['show tunes']  "
      ]
     },
     "execution_count": 3,
     "metadata": {},
     "output_type": "execute_result"
    }
   ],
   "source": [
    "#Eliminar los generos nulos\n",
    "no_generos_nulos = original_df_genero[original_df_genero.genres != \"[]\"]\n",
    "#Copiar la nueva tabla sin generos nulos a una nueva tabla con un nombre nuevo\n",
    "df_genero = no_generos_nulos.copy()\n",
    "#Convertir la popularidad de float a entero\n",
    "df_genero['popularity'] = df_genero['popularity'].astype(int)\n",
    "df_genero = df_genero.reset_index(drop=True)\n",
    "#Convertir las listas de string en la columna de generos en listas de verdad\n",
    "df_genero['genres'] = df_genero['genres'].apply(lambda x: x[1:-1].split(', '))\n",
    "df_genero.rename(columns={'popularity':'Popularidad Artista'}, inplace=True)\n",
    "df_genero.head(1)"
   ]
  },
  {
   "cell_type": "code",
   "execution_count": 4,
   "metadata": {},
   "outputs": [
    {
     "data": {
      "text/html": [
       "<div>\n",
       "<style scoped>\n",
       "    .dataframe tbody tr th:only-of-type {\n",
       "        vertical-align: middle;\n",
       "    }\n",
       "\n",
       "    .dataframe tbody tr th {\n",
       "        vertical-align: top;\n",
       "    }\n",
       "\n",
       "    .dataframe thead th {\n",
       "        text-align: right;\n",
       "    }\n",
       "</style>\n",
       "<table border=\"1\" class=\"dataframe\">\n",
       "  <thead>\n",
       "    <tr style=\"text-align: right;\">\n",
       "      <th></th>\n",
       "      <th>artists</th>\n",
       "      <th>Popularidad Artista</th>\n",
       "      <th>genres</th>\n",
       "      <th>acousticness</th>\n",
       "      <th>danceability</th>\n",
       "      <th>energy</th>\n",
       "      <th>instrumentalness</th>\n",
       "      <th>key</th>\n",
       "      <th>liveness</th>\n",
       "      <th>loudness</th>\n",
       "      <th>mode</th>\n",
       "      <th>speechiness</th>\n",
       "      <th>tempo</th>\n",
       "      <th>valence</th>\n",
       "    </tr>\n",
       "  </thead>\n",
       "  <tbody>\n",
       "    <tr>\n",
       "      <th>0</th>\n",
       "      <td>\"Cats\" 1981 Original London Cast</td>\n",
       "      <td>38</td>\n",
       "      <td>['show tunes']</td>\n",
       "      <td>0.575083</td>\n",
       "      <td>0.44275</td>\n",
       "      <td>0.386336</td>\n",
       "      <td>0.022717</td>\n",
       "      <td>5</td>\n",
       "      <td>0.287708</td>\n",
       "      <td>-14.205417</td>\n",
       "      <td>1</td>\n",
       "      <td>0.180675</td>\n",
       "      <td>115.9835</td>\n",
       "      <td>0.334433</td>\n",
       "    </tr>\n",
       "  </tbody>\n",
       "</table>\n",
       "</div>"
      ],
      "text/plain": [
       "                            artists  Popularidad Artista          genres  \\\n",
       "0  \"Cats\" 1981 Original London Cast                   38  ['show tunes']   \n",
       "\n",
       "   acousticness  danceability    energy  instrumentalness  key  liveness  \\\n",
       "0      0.575083       0.44275  0.386336          0.022717    5  0.287708   \n",
       "\n",
       "    loudness  mode  speechiness     tempo   valence  \n",
       "0 -14.205417     1     0.180675  115.9835  0.334433  "
      ]
     },
     "execution_count": 4,
     "metadata": {},
     "output_type": "execute_result"
    }
   ],
   "source": [
    "#Eliminamos las columnas que no necesitamos\n",
    "new_df_genero = df_genero.drop(['duration_ms', 'count'], axis=1)\n",
    "#Reordenamos las columnas de la siguiente manera para poder visualizar mejor los datos\n",
    "columns_reorder = ['artists', 'Popularidad Artista', 'genres', 'acousticness', 'danceability', 'energy', \n",
    "                   'instrumentalness', 'key', 'liveness', 'loudness', 'mode', 'speechiness', 'tempo', 'valence']\n",
    "\n",
    "new_df_genero = new_df_genero.reindex(columns=columns_reorder)\n",
    "\n",
    "new_df_genero.head(1)"
   ]
  },
  {
   "cell_type": "code",
   "execution_count": 5,
   "metadata": {},
   "outputs": [
    {
     "data": {
      "text/html": [
       "<div>\n",
       "<style scoped>\n",
       "    .dataframe tbody tr th:only-of-type {\n",
       "        vertical-align: middle;\n",
       "    }\n",
       "\n",
       "    .dataframe tbody tr th {\n",
       "        vertical-align: top;\n",
       "    }\n",
       "\n",
       "    .dataframe thead th {\n",
       "        text-align: right;\n",
       "    }\n",
       "</style>\n",
       "<table border=\"1\" class=\"dataframe\">\n",
       "  <thead>\n",
       "    <tr style=\"text-align: right;\">\n",
       "      <th></th>\n",
       "      <th>acousticness</th>\n",
       "      <th>danceability</th>\n",
       "      <th>energy</th>\n",
       "      <th>instrumentalness</th>\n",
       "      <th>key</th>\n",
       "      <th>liveness</th>\n",
       "      <th>loudness</th>\n",
       "      <th>mode</th>\n",
       "      <th>speechiness</th>\n",
       "      <th>tempo</th>\n",
       "      <th>valence</th>\n",
       "    </tr>\n",
       "  </thead>\n",
       "  <tbody>\n",
       "    <tr>\n",
       "      <th>0</th>\n",
       "      <td>0.577393</td>\n",
       "      <td>0.449037</td>\n",
       "      <td>0.386336</td>\n",
       "      <td>0.022717</td>\n",
       "      <td>0.454545</td>\n",
       "      <td>0.290321</td>\n",
       "      <td>0.720962</td>\n",
       "      <td>1.0</td>\n",
       "      <td>0.188596</td>\n",
       "      <td>0.532662</td>\n",
       "      <td>0.337471</td>\n",
       "    </tr>\n",
       "  </tbody>\n",
       "</table>\n",
       "</div>"
      ],
      "text/plain": [
       "   acousticness  danceability    energy  instrumentalness       key  liveness  \\\n",
       "0      0.577393      0.449037  0.386336          0.022717  0.454545  0.290321   \n",
       "\n",
       "   loudness  mode  speechiness     tempo   valence  \n",
       "0  0.720962   1.0     0.188596  0.532662  0.337471  "
      ]
     },
     "execution_count": 5,
     "metadata": {},
     "output_type": "execute_result"
    }
   ],
   "source": [
    "#Separamos las columnas musicales numericas en una nueva tabla\n",
    "song_data = new_df_genero.loc[:, ['acousticness', 'danceability', 'energy', 'instrumentalness', \n",
    "                              'key', 'liveness', 'loudness', 'mode', 'speechiness', 'tempo',\n",
    "                             'valence']]\n",
    "\n",
    "#MinMaxScaler: Transforma las características escalando cada característica a un rango determinado.\n",
    "#Este estimador escala y traduce cada característica individualmente de manera que se encuentre en el \n",
    "#rango dado en el conjunto de entrenamiento, en nuestro caso de -1 a 1.\n",
    "scaler = MinMaxScaler()\n",
    "\n",
    "song_features = pd.DataFrame()\n",
    "\n",
    "for col in song_data.iloc[:, :].columns:\n",
    "    scaler.fit(song_data[[col]])\n",
    "    song_features[col] = scaler.transform(song_data[col].values.reshape(-1,1)).ravel()\n",
    "\n",
    "song_features.head(1)"
   ]
  },
  {
   "cell_type": "code",
   "execution_count": 6,
   "metadata": {},
   "outputs": [
    {
     "data": {
      "text/html": [
       "<div>\n",
       "<style scoped>\n",
       "    .dataframe tbody tr th:only-of-type {\n",
       "        vertical-align: middle;\n",
       "    }\n",
       "\n",
       "    .dataframe tbody tr th {\n",
       "        vertical-align: top;\n",
       "    }\n",
       "\n",
       "    .dataframe thead th {\n",
       "        text-align: right;\n",
       "    }\n",
       "</style>\n",
       "<table border=\"1\" class=\"dataframe\">\n",
       "  <thead>\n",
       "    <tr style=\"text-align: right;\">\n",
       "      <th></th>\n",
       "      <th>artists</th>\n",
       "      <th>Popularidad Artista</th>\n",
       "      <th>genres</th>\n",
       "      <th>acousticness</th>\n",
       "      <th>danceability</th>\n",
       "      <th>energy</th>\n",
       "      <th>instrumentalness</th>\n",
       "      <th>key</th>\n",
       "      <th>liveness</th>\n",
       "      <th>loudness</th>\n",
       "      <th>mode</th>\n",
       "      <th>speechiness</th>\n",
       "      <th>tempo</th>\n",
       "      <th>valence</th>\n",
       "    </tr>\n",
       "  </thead>\n",
       "  <tbody>\n",
       "    <tr>\n",
       "      <th>0</th>\n",
       "      <td>\"Cats\" 1981 Original London Cast</td>\n",
       "      <td>38</td>\n",
       "      <td>['show tunes']</td>\n",
       "      <td>0.577393</td>\n",
       "      <td>0.449037</td>\n",
       "      <td>0.386336</td>\n",
       "      <td>0.022717</td>\n",
       "      <td>0.454545</td>\n",
       "      <td>0.290321</td>\n",
       "      <td>0.720962</td>\n",
       "      <td>1.0</td>\n",
       "      <td>0.188596</td>\n",
       "      <td>0.532662</td>\n",
       "      <td>0.337471</td>\n",
       "    </tr>\n",
       "  </tbody>\n",
       "</table>\n",
       "</div>"
      ],
      "text/plain": [
       "                            artists  Popularidad Artista          genres  \\\n",
       "0  \"Cats\" 1981 Original London Cast                   38  ['show tunes']   \n",
       "\n",
       "   acousticness  danceability    energy  instrumentalness       key  liveness  \\\n",
       "0      0.577393      0.449037  0.386336          0.022717  0.454545  0.290321   \n",
       "\n",
       "   loudness  mode  speechiness     tempo   valence  \n",
       "0  0.720962   1.0     0.188596  0.532662  0.337471  "
      ]
     },
     "execution_count": 6,
     "metadata": {},
     "output_type": "execute_result"
    }
   ],
   "source": [
    "#Ahora que nuestros datos ya están escalados, eliminamos las columnas musicales numéricas en nuestra tabla new_df_genero\n",
    "#y las reemplazamos por las nuevas escaladas\n",
    "reemplazar_datos = new_df_genero.drop(['acousticness', 'danceability', 'energy', 'instrumentalness', \n",
    "                              'key', 'liveness', 'loudness', 'mode', 'speechiness', 'tempo',\n",
    "                             'valence'], axis=1)\n",
    "                               \n",
    "final_df_genre = reemplazar_datos.join(song_features)\n",
    "final_df_genre.head(1)"
   ]
  },
  {
   "cell_type": "markdown",
   "metadata": {},
   "source": [
    "**Ya que los datos estan preparados procedemos a realizar nuestro sistema de recomendacion**"
   ]
  },
  {
   "cell_type": "code",
   "execution_count": 7,
   "metadata": {},
   "outputs": [],
   "source": [
    "#Funcion que realizara el sistema de recomendacion de artistas\n",
    "def sistema_recomendacion_artistas(boton):\n",
    "    with outuser_info:\n",
    "        clear_output()\n",
    "\n",
    "        #Verificamos que el artista ingresado exista en la columna de artistas de la tabla de artistas con generos\n",
    "        datos_artista = final_df_genre[final_df_genre.artists == artista_txtbox.value]\n",
    "        #Obtenemos los generos que contiene ese artista (es una lista)\n",
    "        generos_artista = set(*datos_artista.genres)\n",
    "\n",
    "        #Hacemos una copia de la tabla original para poder trabajar sobre ella\n",
    "        similitud_datos = final_df_genre.copy()\n",
    "\n",
    "        #Obtenemos solamente los datos musicales numericos, pues con estos trabajaremos para calcular la similitud del coseno\n",
    "        valores_datos = similitud_datos.loc[:, ['acousticness', 'danceability', 'energy', 'instrumentalness', \n",
    "                                  'key', 'liveness', 'loudness', 'mode', 'speechiness', 'tempo',\n",
    "                                 'valence']]\n",
    "\n",
    "        #Creamos una nueva columna que se llame 'Similitud con Artista'\n",
    "        #Posteriormente aqui realizaremos la similitud del coseno con los datos musicales numericos que extrajimos\n",
    "        #La similitud del coseno se aplica a todos los artistas\n",
    "        similitud_datos['Similitud con Artista'] = cosine_similarity(valores_datos, valores_datos.to_numpy()[datos_artista.index[0], None]).squeeze()\n",
    "\n",
    "\n",
    "        #Buscamos una interseccion entre todos los generos de la tabla con los generos de nuestro artista ingresado \n",
    "        similitud_datos.genres = similitud_datos.genres.apply(lambda genres: list(set(genres).intersection(generos_artista)))\n",
    "\n",
    "\n",
    "        similitud_longitud = similitud_datos.genres.str.len()\n",
    "        #Dado el parametro del genero esta variable obtenra mas generos o el mismo numero de generos que deseemos \n",
    "        similitud_datos = similitud_datos.reindex(similitud_longitud[similitud_longitud >= genero_slider.value].sort_values(ascending=False).index)\n",
    "\n",
    "        similitud_datos = similitud_datos.sort_values(by = 'Similitud con Artista', ascending=False)\n",
    "\n",
    "        #Renombramos la columnas de artistas y generos\n",
    "        similitud_datos.rename(columns={'artists':'Artista Similar', 'genres':'Generos'}, inplace=True)\n",
    "\n",
    "        \n",
    "        #Creamos una tabla que solo contenga los primeros 10 elementos para trabajar con ella\n",
    "        tabla_grafica = similitud_datos.head(10)\n",
    "        \n",
    "        #Creamos una grafica con estos nuevos datos que acabamos de obtener\n",
    "        size = [100, 90, 80, 70, 60, 50, 40, 30, 20, 10]\n",
    "        fig = go.Figure(data=[go.Scatter(\n",
    "            x=tabla_grafica['Similitud con Artista'], y=tabla_grafica['Artista Similar'], \n",
    "            mode='markers',\n",
    "            marker=dict(\n",
    "                color=['rgb(255, 241, 0)', 'rgb(255, 140, 0)', 'rgb(232, 17, 35)', 'rgb(236, 0, 140)',\n",
    "                      'rgb(104, 33, 122)', 'rgb(0, 24, 143)', 'rgb(0, 188, 242)', 'rgb(0, 178, 148)',\n",
    "                      'rgb(0, 158, 73)', 'rgb(186, 216, 10)'],\n",
    "                size=size,\n",
    "            ),\n",
    "        )])\n",
    "        fig.update_layout(title='Artistas similares a ' + artista_txtbox.value)\n",
    "        \n",
    "        #Mostramos una tabla y una grafica con el sistema de recomendacion\n",
    "        #return similitud_datos.loc[:, ['Artista Similar', 'Popularidad Artista', 'Generos', 'Similitud con Artista']].head(10)\n",
    "        display(similitud_datos.loc[:, ['Artista Similar', 'Popularidad Artista', 'Generos', 'Similitud con Artista']].head(10))\n",
    "        fig.show()"
   ]
  },
  {
   "cell_type": "markdown",
   "metadata": {},
   "source": [
    "**Creamos los textboxes, botones y demas cosas necesarias para poder ingresar los datos de entrada y poder mostrar el sistema de recomendacion junto con la grafica**"
   ]
  },
  {
   "cell_type": "code",
   "execution_count": 8,
   "metadata": {},
   "outputs": [
    {
     "data": {
      "application/vnd.jupyter.widget-view+json": {
       "model_id": "609bd8b4b2424a9ab53413f28a1f20ca",
       "version_major": 2,
       "version_minor": 0
      },
      "text/plain": [
       "Text(value='Taylor Swift', description='Artista:', placeholder='Taylor Swift')"
      ]
     },
     "metadata": {},
     "output_type": "display_data"
    },
    {
     "data": {
      "application/vnd.jupyter.widget-view+json": {
       "model_id": "5c150d37e7624e62a639019861a5afc0",
       "version_major": 2,
       "version_minor": 0
      },
      "text/plain": [
       "IntSlider(value=1, description='Numero de generos', max=5, min=1, style=SliderStyle(description_width='initial…"
      ]
     },
     "metadata": {},
     "output_type": "display_data"
    },
    {
     "data": {
      "application/vnd.jupyter.widget-view+json": {
       "model_id": "233c70e6c2724596bf87b6516b1aab11",
       "version_major": 2,
       "version_minor": 0
      },
      "text/plain": [
       "Button(description='Recomendar Artistas', style=ButtonStyle())"
      ]
     },
     "metadata": {},
     "output_type": "display_data"
    },
    {
     "data": {
      "application/vnd.jupyter.widget-view+json": {
       "model_id": "644fa5d57f6e4029938c75ea68604b4b",
       "version_major": 2,
       "version_minor": 0
      },
      "text/plain": [
       "Output()"
      ]
     },
     "metadata": {},
     "output_type": "display_data"
    }
   ],
   "source": [
    "#Textbox para ingresar el artista\n",
    "artista_txtbox = widgets.Text(  \n",
    "     placeholder = 'Taylor Swift',  \n",
    "     description = 'Artista:',\n",
    "     value = 'Taylor Swift',\n",
    ")  \n",
    "style = {'description_width': 'initial'}\n",
    "#Slider para ingresar el minimo de generos que coincidan\n",
    "genero_slider = widgets.IntSlider(description='Numero de generos', min = 1, max=5, style=style)\n",
    "#Creamos el boton que presionaremos para obtener el sistema de recomendacion\n",
    "boton_recomendar = Button(description='Recomendar Artistas')\n",
    "#Esto hara que cada vez que presionemos de nuevo el boton el output antiguo sea borrado\n",
    "outuser_info = widgets.Output()\n",
    "\n",
    "#Indicamos que queremos cada vez que se de clic al boton, se llame a la funcion que realiza el sistema de recomendacion\n",
    "boton_recomendar.on_click(sistema_recomendacion_artistas)\n",
    "\n",
    "#Mostramos el textbox, el slider y el boton\n",
    "display(artista_txtbox, genero_slider, boton_recomendar, outuser_info) "
   ]
  },
  {
   "cell_type": "code",
   "execution_count": null,
   "metadata": {},
   "outputs": [],
   "source": []
  }
 ],
 "metadata": {
  "kernelspec": {
   "display_name": "Python 3",
   "language": "python",
   "name": "python3"
  },
  "language_info": {
   "codemirror_mode": {
    "name": "ipython",
    "version": 3
   },
   "file_extension": ".py",
   "mimetype": "text/x-python",
   "name": "python",
   "nbconvert_exporter": "python",
   "pygments_lexer": "ipython3",
   "version": "3.8.3"
  }
 },
 "nbformat": 4,
 "nbformat_minor": 4
}
